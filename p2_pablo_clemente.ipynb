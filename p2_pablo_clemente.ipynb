{
 "cells": [
  {
   "cell_type": "markdown",
   "metadata": {},
   "source": [
    "## Práctica 2 - Optimización No Lineal"
   ]
  },
  {
   "cell_type": "markdown",
   "metadata": {},
   "source": [
    "## Pablo Clemente Moreno <br> No. Cuenta: 418125805"
   ]
  },
  {
   "cell_type": "code",
   "execution_count": 1,
   "metadata": {},
   "outputs": [],
   "source": [
    "import math\n",
    "import sympy as sp"
   ]
  },
  {
   "cell_type": "markdown",
   "metadata": {},
   "source": [
    "Calcule las derivadas con sympy y con una calculadora de derivadas online y a mano para verificar que estuvieran bien y simplificar un poco las expresiones."
   ]
  },
  {
   "cell_type": "code",
   "execution_count": 2,
   "metadata": {},
   "outputs": [],
   "source": [
    "x = sp.Symbol('x') # derivar respecto de x\n",
    "y = (0.5/((1 + x**2)**(1/2)) - (((1 + x**2)**(1/2))*(1 - (0.5/(1 + x**2)))) + x)*-1 #funcion a derivar\n",
    "deriv1 = sp.diff(y) #derivada primera\n",
    "deriv2 = sp.diff(y,x,x) #derivada segunda"
   ]
  },
  {
   "cell_type": "code",
   "execution_count": 3,
   "metadata": {},
   "outputs": [
    {
     "data": {
      "text/latex": [
       "$\\displaystyle \\frac{1.0 x \\left(1 - \\frac{0.5}{x^{2} + 1}\\right)}{\\left(x^{2} + 1\\right)^{0.5}} + \\frac{1.5 x}{\\left(x^{2} + 1\\right)^{1.5}} - 1$"
      ],
      "text/plain": [
       "1.0*x*(1 - 0.5/(x**2 + 1))*(x**2 + 1)**(-0.5) + 1.5*x*(x**2 + 1)**(-1.5) - 1"
      ]
     },
     "execution_count": 3,
     "metadata": {},
     "output_type": "execute_result"
    }
   ],
   "source": [
    "deriv1"
   ]
  },
  {
   "cell_type": "code",
   "execution_count": 4,
   "metadata": {},
   "outputs": [
    {
     "data": {
      "text/latex": [
       "$\\displaystyle - \\frac{1.0 x^{2} \\left(1 - \\frac{0.5}{x^{2} + 1}\\right)}{\\left(x^{2} + 1\\right)^{1.5}} - \\frac{3.5 x^{2}}{\\left(x^{2} + 1\\right)^{2.5}} + \\frac{1.0 \\left(1 - \\frac{0.5}{x^{2} + 1}\\right)}{\\left(x^{2} + 1\\right)^{0.5}} + \\frac{1.5}{\\left(x^{2} + 1\\right)^{1.5}}$"
      ],
      "text/plain": [
       "-1.0*x**2*(1 - 0.5/(x**2 + 1))*(x**2 + 1)**(-1.5) - 3.5*x**2*(x**2 + 1)**(-2.5) + 1.0*(1 - 0.5/(x**2 + 1))*(x**2 + 1)**(-0.5) + 1.5*(x**2 + 1)**(-1.5)"
      ]
     },
     "execution_count": 4,
     "metadata": {},
     "output_type": "execute_result"
    }
   ],
   "source": [
    "deriv2"
   ]
  },
  {
   "cell_type": "markdown",
   "metadata": {},
   "source": [
    "## 1. Encontrar solución optima de la siguiente función: max $f(x)= \\frac{0.5}{\\sqrt{1 +x^2}} - \\sqrt{1 +x^2}(1 - \\frac{0.5}{1+x^2})+x$"
   ]
  },
  {
   "cell_type": "code",
   "execution_count": 5,
   "metadata": {},
   "outputs": [],
   "source": [
    "num_eval_f=0\n",
    "def f(x):\n",
    "    global num_eval_f\n",
    "    num_eval_f+=1\n",
    "    try:\n",
    "        return (0.5/((1 + x**2)**(1/2)) - (((1 + x**2)**(1/2))*(1 - (0.5/(1 + x**2)))) + x)*-1 #multiplicar por -1 para maximizar\n",
    "    except ZeroDivisionError:\n",
    "        return 0"
   ]
  },
  {
   "cell_type": "markdown",
   "metadata": {},
   "source": [
    "## a. Utilizando el método de estimaciones cuadráticas sucesivas. \n",
    "La entrada a tu programa será: x0 = 0, ∆ = 0.1 y ε = 0.0001.<br>\n",
    "Debes reportar el valor obtenido para x*, f(x*) y el número de evaluaciones de f(x) que realizó tu programa."
   ]
  },
  {
   "cell_type": "code",
   "execution_count": 6,
   "metadata": {},
   "outputs": [],
   "source": [
    "def estimaciones(x1,dx,eps):\n",
    "    x2 = x1 + dx\n",
    "    f1 = f(x1)\n",
    "    f2 = f(x2)\n",
    "    if f1 > f2:\n",
    "        x3 = x1 + 2*dx\n",
    "        f3 = f(x3)\n",
    "    else:\n",
    "        x3 = x2\n",
    "        f3 = f2\n",
    "        x2 = x1\n",
    "        f2 = f1\n",
    "        x1 = x1 - dx \n",
    "        f1 = f(x1)\n",
    "    while True:\n",
    "        #determinar fmin y xmin:\n",
    "        lista = [[x1,f1],[x2,f2],[x3,f3]]\n",
    "        aux = sorted(lista, key = lambda x: x[1]) \n",
    "        fmin = aux[0][1]\n",
    "        xmin = aux[0][0]\n",
    "        #calcular xb y fb\n",
    "        a0 = f1\n",
    "        a1 = (f2-f1)/(x2-x1)\n",
    "        a2 = (1/(x3-x2))*(((f3-f1)/(x3-x1)) - a1) \n",
    "        xb = ((x1+x2)/2) - (a1/(2*a2))\n",
    "        fb = f(xb)\n",
    "        #almacenar mejores:\n",
    "        lista.append([xb,fb])\n",
    "        mejoresf = sorted(lista, key = lambda x: x[1])[:-1] #3 mejores puntos en base a f\n",
    "        mejores = sorted(mejoresf) # 3 mejore puntos en base a x\n",
    "        x1,x2,x3 = mejores[0][0],mejores[1][0],mejores[2][0] #los asignamos a x1,x2,x3\n",
    "        f1,f2,f3 = mejores[0][1],mejores[1][1],mejores[2][1]\n",
    "        if abs(xmin-xb) <= eps:\n",
    "            print(\"(%.3f,%.3f)\"%(xb,fb))\n",
    "            print(num_eval_f)\n",
    "            break"
   ]
  },
  {
   "cell_type": "code",
   "execution_count": 7,
   "metadata": {},
   "outputs": [
    {
     "name": "stdout",
     "output_type": "stream",
     "text": [
      "(0.786,-0.300)\n",
      "13\n"
     ]
    }
   ],
   "source": [
    "estimaciones(0,0.01,0.00001)"
   ]
  },
  {
   "cell_type": "markdown",
   "metadata": {},
   "source": [
    "## b. Utilizando el método de Newton - Raphson. \n",
    "La entrada a tu programa será: x0 = 0, ε = 0.0001<br>\n",
    "Debes reportar el valor obtenido para x*, f(x*) y el número de evaluaciones de f'(x) que realizó tu programa."
   ]
  },
  {
   "cell_type": "code",
   "execution_count": 8,
   "metadata": {},
   "outputs": [],
   "source": [
    "num_eval = 0\n",
    "def d1(x):\n",
    "    global num_eval \n",
    "    num_eval +=1\n",
    "    try:\n",
    "        return ((x**2 + 1)**(3/2) -x**3 - 2*x)/((x**2 + 1)**(2/3))*-1\n",
    "    except ZeroDivisionError:\n",
    "        return 0"
   ]
  },
  {
   "cell_type": "code",
   "execution_count": 9,
   "metadata": {},
   "outputs": [],
   "source": [
    "def d2(x):\n",
    "    try:\n",
    "        return (x**2 - 2)/((x**2 + 1 )**(5/2))*-1\n",
    "    except ZeroDivisionError:\n",
    "        return 0"
   ]
  },
  {
   "cell_type": "code",
   "execution_count": 10,
   "metadata": {},
   "outputs": [],
   "source": [
    "def NewtonRaphson(x1,e):\n",
    "    k = 1\n",
    "    f1 = d1(x1)\n",
    "    f2 = d2(x1)\n",
    "    while abs(f1)>e:\n",
    "        xk = x1 - f1/f2\n",
    "        x1 = xk\n",
    "        f1 = d1(x1)\n",
    "        f2 = d2(x1)\n",
    "        k+=1\n",
    "    print(\"(%.3f,%.3f)\"%(x1,f(x1)))\n",
    "    return print(num_eval)"
   ]
  },
  {
   "cell_type": "code",
   "execution_count": 11,
   "metadata": {},
   "outputs": [
    {
     "name": "stdout",
     "output_type": "stream",
     "text": [
      "(0.786,-0.300)\n",
      "11\n"
     ]
    }
   ],
   "source": [
    "NewtonRaphson(0,0.0001)"
   ]
  },
  {
   "cell_type": "markdown",
   "metadata": {},
   "source": [
    "## c. Utilizando el método de Cuasi-Newton. \n",
    "La entrada a tu programa será: x0 = 0, ∆ = 0.01 y ε = 0.0001<br>\n",
    "Debes reportar el valor obtenido para x*, f(x*) y el número de evaluaciones de f(x) que realizó tu programa."
   ]
  },
  {
   "cell_type": "code",
   "execution_count": 12,
   "metadata": {},
   "outputs": [],
   "source": [
    "eval_f =0\n",
    "def f(x):\n",
    "    global eval_f\n",
    "    eval_f+=1\n",
    "    try:\n",
    "        return (0.5/((1 + x**2)**(1/2)) - (((1 + x**2)**(1/2))*(1 - (0.5/(1 + x**2)))) + x)*-1\n",
    "    except ZeroDivisionError:\n",
    "        return 0"
   ]
  },
  {
   "cell_type": "code",
   "execution_count": 13,
   "metadata": {},
   "outputs": [],
   "source": [
    "def d1(x,y,w,dx):#derivada primera\n",
    "    try:\n",
    "        return (y - w)/ (2*dx)\n",
    "    except ZeroDivisionError:\n",
    "        return 0\n",
    "def d2(x,y,w,dx): #derivada segunda\n",
    "    try:\n",
    "        return (y - 2*(f(x)) + w)/ (dx**2)\n",
    "    except ZeroDivisionError:\n",
    "        return 0"
   ]
  },
  {
   "cell_type": "code",
   "execution_count": 14,
   "metadata": {},
   "outputs": [],
   "source": [
    "def CuasiNewton(x1,dx,e):\n",
    "    k = 1\n",
    "    y = f(x1+dx)\n",
    "    w = f(x1-dx)\n",
    "    f1 = d1(x1,y,w,dx)\n",
    "    while abs(f1)>e:\n",
    "        f2 = d2(x1,y,w,dx)\n",
    "        xk = x1 - f1/f2\n",
    "        x1 = xk\n",
    "        y = f(x1+dx)\n",
    "        w = f(x1-dx)\n",
    "        f1 = d1(x1,y,w,dx)\n",
    "        k+=1\n",
    "    print(\"(%.3f,%.3f)\"%(x1,f(x1)))\n",
    "    print(eval_f)"
   ]
  },
  {
   "cell_type": "code",
   "execution_count": 15,
   "metadata": {},
   "outputs": [
    {
     "name": "stdout",
     "output_type": "stream",
     "text": [
      "(0.786,-0.300)\n",
      "18\n"
     ]
    }
   ],
   "source": [
    "CuasiNewton(0,0.01,0.0001)"
   ]
  },
  {
   "cell_type": "markdown",
   "metadata": {},
   "source": [
    "## d. Utilizando el método de Bisección. \n",
    "La entrada a tu programa será: a = 0, b = 5 y ε = 0.0001<br>\n",
    "Debes reportar el valor obtenido para x*, f(x*) y el número de evaluaciones de f'(x) que realizó tu programa."
   ]
  },
  {
   "cell_type": "code",
   "execution_count": 16,
   "metadata": {},
   "outputs": [],
   "source": [
    "num_eval = 0\n",
    "def d1(x):\n",
    "    global num_eval \n",
    "    num_eval +=1\n",
    "    try:\n",
    "        return ((x**2 + 1)**(3/2) -x**3 - 2*x)/((x**2 + 1)**(2/3))*-1\n",
    "    except ZeroDivisionError:\n",
    "        return 0"
   ]
  },
  {
   "cell_type": "code",
   "execution_count": 17,
   "metadata": {},
   "outputs": [],
   "source": [
    "def biseccion(a,b,e):\n",
    "    da = d1(a)\n",
    "    db = d1(b)\n",
    "    if da <= 0 and db >= 0 :\n",
    "        z = (a+b)/2\n",
    "        dz = d1(z)\n",
    "        while abs(dz) > e:\n",
    "            if dz < 0:\n",
    "                a = z\n",
    "                z = (a+b)/2\n",
    "                dz = d1(z)\n",
    "            else:\n",
    "                b = z\n",
    "                z = (a+b)/2\n",
    "                dz = d1(z)  \n",
    "        print(\"(%.3f,%.3f)\"%(z,f(z)))\n",
    "        print(num_eval)\n",
    "    else:\n",
    "        print(\"Error\")"
   ]
  },
  {
   "cell_type": "code",
   "execution_count": 18,
   "metadata": {},
   "outputs": [
    {
     "name": "stdout",
     "output_type": "stream",
     "text": [
      "(0.786,-0.300)\n",
      "12\n"
     ]
    }
   ],
   "source": [
    "biseccion(0,5,0.0001)"
   ]
  },
  {
   "cell_type": "markdown",
   "metadata": {},
   "source": [
    "## e. Utilizando el método de Secante. \n",
    "La entrada a tu programa será: a = 0, b = 5 y ε = 0.0001<br>\n",
    "Debes reportar el valor obtenido para x*, f(x*) y el número de evaluaciones de f'(x) que realizó tu programa."
   ]
  },
  {
   "cell_type": "code",
   "execution_count": 19,
   "metadata": {},
   "outputs": [],
   "source": [
    "num_eval = 0\n",
    "def d1(x):\n",
    "    global num_eval \n",
    "    num_eval +=1\n",
    "    try:\n",
    "        return ((x**2 + 1)**(3/2) -x**3 - 2*x)/((x**2 + 1)**(2/3))*-1\n",
    "    except ZeroDivisionError:\n",
    "        return 0"
   ]
  },
  {
   "cell_type": "code",
   "execution_count": 20,
   "metadata": {},
   "outputs": [],
   "source": [
    "def secante(xl,xr,e):\n",
    "    dxl = d1(xl)\n",
    "    dxr = d1(xr)\n",
    "    if dxl*dxr < 0 :\n",
    "        z = xr - (dxr*(xr-xl)/(dxr-dxl))\n",
    "        dz = d1(z)\n",
    "        while abs(dz) > e:\n",
    "            if dz < 0:\n",
    "                xl = z\n",
    "                z = xr - (dxr*(xr-xl)/(dxr-dz))  \n",
    "            else:\n",
    "                xr = z  \n",
    "                z = xr - (dz*(xr-xl)/(dz-dxl))  \n",
    "            dz = d1(z) \n",
    "        print(\"(%.3f,%.3f)\"%(z,f(z)))\n",
    "        print(num_eval)\n",
    "    else:\n",
    "        print(\"Error\")"
   ]
  },
  {
   "cell_type": "code",
   "execution_count": 21,
   "metadata": {},
   "outputs": [
    {
     "name": "stdout",
     "output_type": "stream",
     "text": [
      "(0.786,-0.300)\n",
      "20\n"
     ]
    }
   ],
   "source": [
    "secante(0,5,0.0001)"
   ]
  },
  {
   "cell_type": "markdown",
   "metadata": {},
   "source": [
    "Método | Punto optimo | f(x) / f'(x) | Evaluaciones\n",
    "-- | -- | -- | --\n",
    "Estimaciones cuadraticas sucesivas |0.786  | 0.300| 13\n",
    "Newton-Raphson |0.786|0.300| __11__\n",
    "Cuasi-Newton| 0.786|0.300| 18\n",
    "Bisección |0.786|0.300| 12\n",
    "Secante |0.786|0.300| 20"
   ]
  },
  {
   "cell_type": "markdown",
   "metadata": {},
   "source": [
    "## 2. Gráficar f(x), en el intervalo [x* − 1, x* + 1]."
   ]
  },
  {
   "cell_type": "code",
   "execution_count": 22,
   "metadata": {},
   "outputs": [],
   "source": [
    "def original(x):\n",
    "    return 0.5/((1 + x**2)**(1/2)) - (((1 + x**2)**(1/2))*(1 - (0.5/(1 + x**2)))) + x"
   ]
  },
  {
   "cell_type": "code",
   "execution_count": 30,
   "metadata": {},
   "outputs": [
    {
     "data": {
      "image/png": "[encoded data removed]",
      "text/plain": [
       "<Figure size 432x288 with 1 Axes>"
      ]
     },
     "metadata": {
      "needs_background": "light"
     },
     "output_type": "display_data"
    }
   ],
   "source": [
    "import matplotlib.pyplot as plt\n",
    "import numpy as np\n",
    "\n",
    "x = np.linspace(-0.214, 1.786, num=10)\n",
    "plt.plot(x, [original(i) for i in x])\n",
    "plt.plot(0.786, 0.3000, marker='o', markersize=7, color=\"red\", label='Punto optimo')\n",
    "plt.title(\"0.5/(1 + x^2)^1/2 - (1 + x^2)^1/2(1 - (0.5/1 + x^2)) + x\")\n",
    "plt.xlabel('x')\n",
    "plt.ylabel('f(x)')\n",
    "plt.legend(loc='best')\n",
    "plt.show()"
   ]
  },
  {
   "cell_type": "markdown",
   "metadata": {},
   "source": [
    "## 3. examen) Utiliza el método de tu preferencia para resolver el siguiente problema:\n",
    "### $min g(x) = e^x − x^3$"
   ]
  },
  {
   "cell_type": "code",
   "execution_count": 24,
   "metadata": {},
   "outputs": [],
   "source": [
    "def g(x):\n",
    "    return math.exp(x) - x**3"
   ]
  },
  {
   "cell_type": "code",
   "execution_count": 25,
   "metadata": {},
   "outputs": [],
   "source": [
    "num_eval = 0\n",
    "def d1(x):\n",
    "    global num_eval \n",
    "    num_eval +=1\n",
    "    return math.exp(x) - 3*(x**2)"
   ]
  },
  {
   "cell_type": "code",
   "execution_count": 26,
   "metadata": {},
   "outputs": [],
   "source": [
    "def d2(x):\n",
    "    return math.exp(x) - 6*x"
   ]
  },
  {
   "cell_type": "code",
   "execution_count": 27,
   "metadata": {},
   "outputs": [],
   "source": [
    "def NewtonRaphson(x1,e):\n",
    "    k = 1\n",
    "    f1 = d1(x1)\n",
    "    f2 = d2(x1)\n",
    "    while abs(f1)>e:\n",
    "        xk = x1 - f1/f2\n",
    "        x1 = xk\n",
    "        f1 = d1(x1)\n",
    "        f2 = d2(x1)\n",
    "        k+=1\n",
    "    print(\"(%.3f,%.3f)\"%(x1,g(x1)))\n",
    "    return print(num_eval)"
   ]
  },
  {
   "cell_type": "markdown",
   "metadata": {},
   "source": [
    "Justificación: utilice el método de Newton-Raphson por que en las pruebas anteriores de esta práctica fue el que obtuvo una menor cantidad de evaluaciones de la función en comparacieon con los otros métodos y fue el que más me gusto al momento de implementarlo."
   ]
  },
  {
   "cell_type": "code",
   "execution_count": 28,
   "metadata": {},
   "outputs": [
    {
     "name": "stdout",
     "output_type": "stream",
     "text": [
      "(-0.459,0.729)\n",
      "6\n"
     ]
    }
   ],
   "source": [
    "NewtonRaphson(0,0.0001)"
   ]
  },
  {
   "cell_type": "code",
   "execution_count": 29,
   "metadata": {},
   "outputs": [
    {
     "data": {
      "image/png": "[encoded data removed]",
      "text/plain": [
       "<Figure size 432x288 with 1 Axes>"
      ]
     },
     "metadata": {
      "needs_background": "light"
     },
     "output_type": "display_data"
    }
   ],
   "source": [
    "x = np.linspace(-1.459, 0.541, num=10)\n",
    "plt.plot(x, [g(i) for i in x])\n",
    "plt.plot(-0.459, 0.729, marker='o', markersize=7, color=\"red\", label='Punto optimo')\n",
    "plt.title(\"e^x - x^3\")\n",
    "plt.xlabel('x')\n",
    "plt.ylabel('g(x)')\n",
    "plt.legend(loc='best')\n",
    "plt.show()"
   ]
  }
 ],
 "metadata": {
  "kernelspec": {
   "display_name": "Python 3",
   "language": "python",
   "name": "python3"
  },
  "language_info": {
   "codemirror_mode": {
    "name": "ipython",
    "version": 3
   },
   "file_extension": ".py",
   "mimetype": "text/x-python",
   "name": "python",
   "nbconvert_exporter": "python",
   "pygments_lexer": "ipython3",
   "version": "3.8.5"
  }
 },
 "nbformat": 4,
 "nbformat_minor": 4
}
