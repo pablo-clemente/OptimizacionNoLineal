{
 "cells": [
  {
   "cell_type": "markdown",
   "metadata": {},
   "source": [
    "## Práctica 3 - Optimización No Lineal"
   ]
  },
  {
   "cell_type": "markdown",
   "metadata": {},
   "source": [
    "## Pablo Clemente Moreno <br> No. Cuenta: 418125805"
   ]
  },
  {
   "cell_type": "markdown",
   "metadata": {},
   "source": [
    "## 1. Al buscar el minimo de: $f(x) = (x_{1}^{2} + (x_{2} +1)^{2})(x_{1}^{2} + (x_{2} -1)^{2})$\n",
    "Se obtienen los puntos siguientes:<br>\n",
    "$x^{(1)} = [1,1]^{T}$<br>\n",
    "$x^{(2)} = [0,1]^{T}$<br>\n",
    "Caracterice cada uno de estos puntos y muestre todo su procedimiento."
   ]
  },
  {
   "cell_type": "markdown",
   "metadata": {},
   "source": [
    "### Condiciones necesarias (gradiente f(x)=0):"
   ]
  },
  {
   "cell_type": "markdown",
   "metadata": {},
   "source": [
    "Paso 1. Derivar f(x) respecto de $x_1$ y $x_2$<br>\n",
    "a) $f'(x)$ respecto a $x_1$ = $2x_{1}(x_{1}^{2} + (x_{2} - 1)^{2}) + 2x_{1}(x_{1}^{2} + (x_{2} + 1)^{2})$<br>\n",
    "b) $f'(x)$ respecto a $x_2$= $2(x_{2} + 1)(x_{1}^{2} + (x_{2} - 1)^{2})) + 2(x_{2}-1)(x_{1}^{2} + (x_{2} + 1)^{2})$"
   ]
  },
  {
   "cell_type": "markdown",
   "metadata": {},
   "source": [
    "Paso 2. evaluar $x^{(1)}$ y $x^{(2)}$ en la $f'(x)$ de a y b:<br>\n",
    "$f'([1,1]) = [ 2 + 10, 4 + 0 ] = [12,4]$<br>\n",
    "$f'([0,1]) = [0+ 0, 0+0] = [0,0]$<br>\n",
    "#### Ya que el punto $x^{(1)}$ no cumple con las condiciones necesarias, solo pasaremos a verificar las condiciones suficientes para el punto $x^{(2)}$"
   ]
  },
  {
   "cell_type": "markdown",
   "metadata": {},
   "source": [
    "### Condiciones suficientes (matríz hessiana positivamente definida):"
   ]
  },
  {
   "cell_type": "markdown",
   "metadata": {},
   "source": [
    "Paso 1. Calcular f''(x) respecto de $x_1$ y $x_2$ para a y b <br>"
   ]
  },
  {
   "cell_type": "markdown",
   "metadata": {},
   "source": [
    "$f''(a)$ respecto a $x_1$ = $2(x_{1}^{2}+(x_{2}-1)^{2})+2x_{1}(2x_{1})+2(x_{1}^{2}+(x_{2}+1)^{2})+2x_{1}(2x_{1})$ ,  respecto a $x_2$ = $2x_{1}(2(x_{2} -1)) + 2x_{1}(2(x_{2}+1))$"
   ]
  },
  {
   "cell_type": "markdown",
   "metadata": {},
   "source": [
    "$f''(b)$ respecto a $x_1$ =$2(x_{2}+1)(2x_{1})+ 2(x_{2} -1)(2x_{1})$ ,  respecto a $x_2$ = $ 2(x_{2} +1)(2(x_{2}-1))+ 2(x_{1}^{2} + (x_{2} -1)^{2}) + 2(x_{2} -1)(2(x_{2}+1))+ 2(x_{1}^{2} + (x_{2} +1)^{2})$"
   ]
  },
  {
   "cell_type": "markdown",
   "metadata": {},
   "source": [
    "Paso 2. evaluar $x^{(2)}$ en la $f''(a)$ y $f''(b)$ <br>"
   ]
  },
  {
   "cell_type": "markdown",
   "metadata": {},
   "source": [
    "$f''([0,1]) = \\begin{bmatrix}\n",
    "0+0+8+0&0+0 \\\\ \n",
    "0+0&0+0+0+8 \n",
    "\\end{bmatrix}=\\begin{bmatrix}\n",
    "8&0 \\\\ \n",
    "0&8\n",
    "\\end{bmatrix}$<br>"
   ]
  },
  {
   "cell_type": "markdown",
   "metadata": {},
   "source": [
    "Resultado: \n",
    "- la matríz hessiana en el punto $x^{(2)}$ esta positivamente definida por lo tanto $x^{(2)}$ __si es un mínimo__.<br>"
   ]
  },
  {
   "cell_type": "markdown",
   "metadata": {},
   "source": [
    "## 2. Se desea minimizar la funcion: $f(x): (x_{1}^{2} - x_{2})^{2} + x_{2}^{2}$"
   ]
  },
  {
   "cell_type": "code",
   "execution_count": 105,
   "metadata": {},
   "outputs": [],
   "source": [
    "def f(x):\n",
    "    return (x[0]**2 -x[1])**2 + x[1]**2"
   ]
  },
  {
   "cell_type": "markdown",
   "metadata": {},
   "source": [
    "Se reescribe la función objetivo multi-variable en terminos de lambda:"
   ]
  },
  {
   "cell_type": "code",
   "execution_count": 106,
   "metadata": {},
   "outputs": [],
   "source": [
    "def flambda(x, d, l):\n",
    "    xlambda = []\n",
    "    xlambda.append(x[0] + l*d[0])\n",
    "    xlambda.append(x[1] + l*d[1])\n",
    "    fl = f(xlambda)\n",
    "    return fl"
   ]
  },
  {
   "cell_type": "code",
   "execution_count": 107,
   "metadata": {},
   "outputs": [],
   "source": [
    "def fl(x, d, w, a, b):\n",
    "    l = (b-a)*w + a\n",
    "    return flambda(x,d,l)"
   ]
  },
  {
   "cell_type": "markdown",
   "metadata": {},
   "source": [
    "Posteriormente, podemos usar alguno de los métodos de optimización para funciones de una sola variable.<br>\n",
    "En este caso usamos el método de __Seccion Dorada__."
   ]
  },
  {
   "cell_type": "code",
   "execution_count": 108,
   "metadata": {},
   "outputs": [],
   "source": [
    "def seccionDorada(x, d, a,b,eps):\n",
    "    e = eps/(b-a)\n",
    "    aw = 0\n",
    "    bw = 1\n",
    "    lw = 1\n",
    "    while lw > e:\n",
    "        w1 = aw +(0.618*lw)\n",
    "        w2 = bw -(0.618*lw)\n",
    "        f1 = fl(x, d, w1, a, b) \n",
    "        f2 = fl(x, d, w2, a, b) \n",
    "        if  f1 < f2:\n",
    "            aw = w2 \n",
    "        else:\n",
    "            bw = w1\n",
    "        lw = bw - aw   \n",
    "\n",
    "        lopt = (((b-a)*bw + a)+((b-a)*aw + a))/2.0\n",
    "    return lopt"
   ]
  },
  {
   "cell_type": "code",
   "execution_count": 109,
   "metadata": {},
   "outputs": [
    {
     "name": "stdout",
     "output_type": "stream",
     "text": [
      "siguiente punto = [-2.597,6.201]\n",
      "f(x) = 38.753\n"
     ]
    }
   ],
   "source": [
    "x0 = [-5,5]\n",
    "s = [2,1]\n",
    "a, b, eps_uni = -100.0, 100.0, 0.0001\n",
    "l = seccionDorada(x0, s, a, b, eps_uni)\n",
    "xnew= [x0[i] + l*s[i] for i in range(2)]\n",
    "\n",
    "print('siguiente punto = [%.3f,%.3f]'%(xnew[0],xnew[1]))\n",
    "print('f(x) = %.3f'%(f(xnew)))"
   ]
  },
  {
   "cell_type": "markdown",
   "metadata": {},
   "source": [
    "## Grafica de f(x):"
   ]
  },
  {
   "cell_type": "code",
   "execution_count": 110,
   "metadata": {},
   "outputs": [
    {
     "data": {
      "image/png": "[encoded data removed]",
      "text/plain": [
       "<Figure size 432x288 with 2 Axes>"
      ]
     },
     "metadata": {},
     "output_type": "display_data"
    }
   ],
   "source": [
    "from mpl_toolkits.mplot3d import Axes3D\n",
    "from matplotlib import cm\n",
    "from matplotlib.ticker import LinearLocator, FormatStrFormatter\n",
    "import matplotlib.pyplot as plt\n",
    "from numpy import exp,arange\n",
    "from pylab import meshgrid,cm,imshow,contour,clabel,colorbar,axis,title,show\n",
    "\n",
    "x1 = arange(-7.0,7.0,0.1)\n",
    "x2 = arange(-3.0,7.0,0.1)\n",
    "X1,X2 = meshgrid(x1, x2) # grid of point\n",
    "Z = f([X1,X2]) # evaluation of the function on the grid\n",
    "\n",
    "fig = plt.figure()\n",
    "ax = fig.gca(projection='3d')\n",
    "surf = ax.plot_surface(X1, X2, Z, rstride=1, cstride=1, cmap=cm.RdBu,linewidth=0, antialiased=False)\n",
    "\n",
    "ax.zaxis.set_major_locator(LinearLocator(10))\n",
    "ax.zaxis.set_major_formatter(FormatStrFormatter('%.02f'))\n",
    "\n",
    "fig.colorbar(surf, shrink=0.5, aspect=5)\n",
    "\n",
    "plt.show()"
   ]
  },
  {
   "cell_type": "markdown",
   "metadata": {},
   "source": [
    "## Grafica de f(x) en terminos de lambda: $f(x): ((-5 + 2\\lambda)^{2} - (5 + \\lambda))^{2}+ (5 + \\lambda)^{2}$"
   ]
  },
  {
   "cell_type": "code",
   "execution_count": 111,
   "metadata": {},
   "outputs": [],
   "source": [
    "def f_lambda(l):\n",
    "    return ((-5 + 2*l)**2 -(5 + l))**2 + (5+l)**2"
   ]
  },
  {
   "cell_type": "code",
   "execution_count": 113,
   "metadata": {},
   "outputs": [
    {
     "data": {
      "image/png": "[encoded data removed]",
      "text/plain": [
       "<Figure size 432x288 with 1 Axes>"
      ]
     },
     "metadata": {},
     "output_type": "display_data"
    }
   ],
   "source": [
    "import matplotlib.pyplot as plt\n",
    "import numpy as np\n",
    "l = np.linspace(-10.0, 10.0, num=1000)\n",
    "plt.plot(l, [abs(f_lambda(i)) for i in l])\n",
    "plt.show()"
   ]
  },
  {
   "cell_type": "markdown",
   "metadata": {},
   "source": [
    "## 3. Considere el siguiente problema: $min f(x): (x_{1} + 2x_{2} - 7)^{2}+(2x_{1} +x_{2} -5)^{2}$"
   ]
  },
  {
   "cell_type": "code",
   "execution_count": 136,
   "metadata": {},
   "outputs": [],
   "source": [
    "import math\n",
    "import random"
   ]
  },
  {
   "cell_type": "code",
   "execution_count": 137,
   "metadata": {},
   "outputs": [],
   "source": [
    "num_eval = 0\n",
    "def f(x):\n",
    "    global num_eval \n",
    "    num_eval += 1\n",
    "    return (x[0] + 2*x[1] - 7)**2 + (2*x[0] + x[1] -5)**2"
   ]
  },
  {
   "cell_type": "code",
   "execution_count": 138,
   "metadata": {},
   "outputs": [],
   "source": [
    "def norm(x):\n",
    "    suma = sum([i**2 for i in x])\n",
    "    return math.sqrt(suma)"
   ]
  },
  {
   "cell_type": "markdown",
   "metadata": {},
   "source": [
    "# EVOP"
   ]
  },
  {
   "cell_type": "code",
   "execution_count": 13,
   "metadata": {},
   "outputs": [],
   "source": [
    "def generar_vertices(x, delta, lista_binarios):\n",
    "    lista_puntos = []\n",
    "    for binario in lista_binarios:\n",
    "        punto = []\n",
    "        for i in range(len(delta)):\n",
    "            if binario[i] == 1:\n",
    "                punto.append(x[i] + delta[i]/2)\n",
    "            else:\n",
    "                punto.append(x[i] - delta[i]/2)\n",
    "        lista_puntos.append(punto)\n",
    "    return lista_puntos\n",
    "\n",
    "def encontrar_menor(lista_vertices):\n",
    "    lista_f = [f(i) for i in lista_vertices]\n",
    "    f_min = min(lista_f)\n",
    "    index = lista_f.index(f_min)\n",
    "    x_min = lista_vertices[index]\n",
    "    return x_min, f_min"
   ]
  },
  {
   "cell_type": "code",
   "execution_count": 14,
   "metadata": {},
   "outputs": [],
   "source": [
    "def evop(x0,delta,eps):\n",
    "    lista_binarios = [[0,0],[0,1],[1,0],[1,1]]\n",
    "    x_bar = x0\n",
    "    f_xbar = f(x_bar)\n",
    "    while norm(delta) > eps:\n",
    "        lista_vertices = generar_vertices(x_bar, delta, lista_binarios)\n",
    "        x0, f_x  = encontrar_menor(lista_vertices)\n",
    "        if f_x < f_xbar:\n",
    "            x_bar = x0\n",
    "            f_xbar = f_x\n",
    "        else:\n",
    "            delta = [i/2 for i in delta]\n",
    "\n",
    "    print('x = [%.3f,%.3f]'%(x_bar[0],x_bar[1]))\n",
    "    print('f(x) = %.3f'%(f_xbar))\n",
    "    print(num_eval)"
   ]
  },
  {
   "cell_type": "code",
   "execution_count": 15,
   "metadata": {},
   "outputs": [
    {
     "name": "stdout",
     "output_type": "stream",
     "text": [
      "x = [1.000,3.000]\n",
      "f(x) = 0.000\n",
      "105\n"
     ]
    }
   ],
   "source": [
    "x0 = [0,0]\n",
    "delta = [5,5]\n",
    "eps = 0.001\n",
    "evop(x0,delta,eps)"
   ]
  },
  {
   "cell_type": "markdown",
   "metadata": {},
   "source": [
    "# Caminata Aleatoria"
   ]
  },
  {
   "cell_type": "code",
   "execution_count": 17,
   "metadata": {},
   "outputs": [],
   "source": [
    "def obtenerR(x):\n",
    "    R=0\n",
    "    n = len(x)\n",
    "    for i in range(n):\n",
    "        R += x[i]**2\n",
    "    return R**0.5"
   ]
  },
  {
   "cell_type": "code",
   "execution_count": 18,
   "metadata": {},
   "outputs": [],
   "source": [
    "def caminata_aletoria(n,x0,Lambda,eps,N):\n",
    "    intentos = 0\n",
    "    fx = f(x0)\n",
    "    while Lambda > eps:\n",
    "        while True:\n",
    "            r = []\n",
    "            for i in range(n):\n",
    "                x= random.uniform(-1,1)\n",
    "                r.append(x)\n",
    "            R = obtenerR(r)\n",
    "            if R < 1:\n",
    "                break\n",
    "        u = [(1/R)*i for i in r]\n",
    "        Lambda_u = [Lambda*i for i in u]\n",
    "        xnew = [x + y for x, y in zip(x0, Lambda_u)]\n",
    "        fxnew = f(xnew)\n",
    "        if fxnew < fx:\n",
    "            x0 = xnew\n",
    "            fx = fxnew\n",
    "            intentos = 0\n",
    "        else:\n",
    "            intentos+=1\n",
    "            if intentos >= N:\n",
    "                Lambda = Lambda/2\n",
    "    \n",
    "    print('x = [%.3f,%.3f]'%(x0[0],x0[1]))\n",
    "    print('f(x) = %.3f'%(fx))\n",
    "    print(num_eval)"
   ]
  },
  {
   "cell_type": "code",
   "execution_count": 19,
   "metadata": {},
   "outputs": [
    {
     "name": "stdout",
     "output_type": "stream",
     "text": [
      "x = [0.953,3.037]\n",
      "f(x) = 0.004\n",
      "267\n"
     ]
    }
   ],
   "source": [
    "n = 2\n",
    "x0 = [0,0]\n",
    "Lambda = 2.0\n",
    "eps = 0.05\n",
    "N = 100\n",
    "random.seed(42)\n",
    "caminata_aletoria(n,x0,Lambda,eps,N)"
   ]
  },
  {
   "cell_type": "markdown",
   "metadata": {},
   "source": [
    "# Simplex"
   ]
  },
  {
   "cell_type": "code",
   "execution_count": 21,
   "metadata": {},
   "outputs": [],
   "source": [
    "def simplexInicial(x0,n, alpha):\n",
    "    rho1 = (((n + 1)**0.5 + n - 1)/(n*(2**0.5)))*alpha\n",
    "    rho2 = (((n + 1)**0.5 - 1)/(n*(2**0.5)))*alpha\n",
    "    simplex = []\n",
    "    simplex.append((x0,f(x0)))\n",
    "    for i in range(n):\n",
    "        x = [0] * n\n",
    "        for j in range(n):\n",
    "            if j == i:\n",
    "                x[j] = x0[j] + rho1\n",
    "            else:\n",
    "                x[j] = x0[j] + rho2\n",
    "        simplex.append((x,f(x)))  \n",
    "    return simplex"
   ]
  },
  {
   "cell_type": "code",
   "execution_count": 22,
   "metadata": {},
   "outputs": [],
   "source": [
    "def centroide(simplex):\n",
    "    npts = len(simplex)\n",
    "    xc = [0]*(npts-1)\n",
    "    for i in range(npts-1):\n",
    "        xc = [x + y for x, y in zip(xc, simplex[i][0])] #esta linea me costo un huevo\n",
    "    return  [(1.0/(npts-1))*i for i in xc]"
   ]
  },
  {
   "cell_type": "code",
   "execution_count": 23,
   "metadata": {},
   "outputs": [],
   "source": [
    "def Q(simplex, xc):\n",
    "    npts = len(simplex)\n",
    "    Q = 0\n",
    "    fxc = f(xc)\n",
    "    for i in range(npts):\n",
    "        Q += (simplex[i][1]-fxc)**2\n",
    "    Q = (Q/npts)**0.5\n",
    "    return Q"
   ]
  },
  {
   "cell_type": "code",
   "execution_count": 24,
   "metadata": {},
   "outputs": [],
   "source": [
    "def simplex(n,x0,gamma,beta,eps,alpha):\n",
    "    s = simplexInicial(x0, n, alpha)\n",
    "    while True:\n",
    "        s = sorted(s,key = lambda x: x[1] )\n",
    "        xc = centroide(s)\n",
    "        aux = [2*i for i in xc]\n",
    "        aux1 = s[-1][0]\n",
    "        xr = []\n",
    "        for i in range(len(aux)):\n",
    "            xr.append(aux[i] - aux1[i])\n",
    "        fxr = f(xr)\n",
    "        xnew = xr\n",
    "        fxnew = fxr\n",
    "        if fxr < s[0][1]:\n",
    "            aux2 = [(1.0 + gamma)*i for i in xc]\n",
    "            aux3 = [i*gamma for i in s[-1][0]]\n",
    "            xnew= []\n",
    "            for i in range(len(aux2)):\n",
    "                xnew.append(aux2[i]-aux3[i])\n",
    "            fxnew = f(xnew)\n",
    "        elif fxr >= s[-1][1]:\n",
    "            aux4 = [(1.0 - beta)*i for i in xc]\n",
    "            aux5 = [i*beta for i in s[-1][0]]\n",
    "            xnew= []\n",
    "            for i in range(len(aux4)):\n",
    "                xnew.append(aux4[i]+aux5[i])\n",
    "            fxnew = f(xnew)\n",
    "        elif s[-2][1] < fxr < s[-1][1]:\n",
    "            aux6 = [(1.0 + beta)*i for i in xc]\n",
    "            aux7 = [i*beta for i in s[-1][0]]\n",
    "            xnew= []\n",
    "            for i in range(len(aux6)):\n",
    "                xnew.append(aux6[i]-aux7[i])\n",
    "            fxnew = f(xnew)\n",
    "        s.pop()\n",
    "        s.append((xnew,fxnew))\n",
    "        q = Q(s,xc)\n",
    "        if q < eps:\n",
    "            break\n",
    "    \n",
    "    simplex_final = sorted(s,key = lambda x: x[1] )\n",
    "    x = simplex_final[0][0]\n",
    "    fx = simplex_final[0][1]\n",
    "    print('x = [%.3f,%.3f]'%(x[0],x[1]))\n",
    "    print('f(x) = %.3f'%(fx))\n",
    "    print(num_eval)"
   ]
  },
  {
   "cell_type": "code",
   "execution_count": 25,
   "metadata": {},
   "outputs": [
    {
     "name": "stdout",
     "output_type": "stream",
     "text": [
      "x = [1.010,2.999]\n",
      "f(x) = 0.000\n",
      "54\n"
     ]
    }
   ],
   "source": [
    "n = 2\n",
    "x0= [0,0]\n",
    "gamma = 1.5\n",
    "beta = 0.5\n",
    "eps = 0.001\n",
    "alpha= 5\n",
    "simplex(n,x0,gamma,beta,eps,alpha)"
   ]
  },
  {
   "cell_type": "markdown",
   "metadata": {},
   "source": [
    "# Hooke-Jeeves"
   ]
  },
  {
   "cell_type": "code",
   "execution_count": 26,
   "metadata": {},
   "outputs": [],
   "source": [
    "def exploratorio(x, delta):\n",
    "    xa = x.copy()\n",
    "    fa = f(xa)\n",
    "    for i in range(len(x)):\n",
    "            xamas = xa.copy()\n",
    "            xamas[i] += delta[i]\n",
    "            xamenos = xa.copy()\n",
    "            xamenos[i] -= delta[i]\n",
    "            fxamas = f(xamas)\n",
    "            fxamenos = f(xamenos)\n",
    "            faux = [[fa, xa], [fxamas, xamas], [fxamenos, xamenos]]\n",
    "            faux.sort()\n",
    "            xa = faux[0][1].copy() \n",
    "            fa = faux[0][0]\n",
    "    if xa == x:\n",
    "        aux = False #fracaso\n",
    "    else:\n",
    "        aux = True #exito\n",
    "    return xa, fa, aux"
   ]
  },
  {
   "cell_type": "code",
   "execution_count": 27,
   "metadata": {},
   "outputs": [],
   "source": [
    "def hook_jeeves(x0,delta,alpha,eps):\n",
    "    k=0\n",
    "    x = x0\n",
    "    xk = x0\n",
    "    while norm(delta) > eps:\n",
    "        xaux, faux, aux = exploratorio(x, delta)\n",
    "        if aux == True:\n",
    "            xk1 = xaux\n",
    "            fxk1 = faux\n",
    "            break\n",
    "        else:\n",
    "            delta = [i/alpha for i in delta]\n",
    "    xmenos = x \n",
    "    xk = xk1 \n",
    "    fxk = fxk1\n",
    "    while norm(delta) > eps:\n",
    "        k += 1\n",
    "        xp = [xk[i] + (xk[i] - xmenos[i]) for i in range(len(xk))]\n",
    "        xk1, f_xk1, aux_ = exploratorio(xp, delta)\n",
    "        if f_xk1 >= fxk:\n",
    "            delta = [i/alpha for i in delta]\n",
    "            while norm(delta) > eps:\n",
    "                xaux, faux, aux1 = exploratorio(xk, delta)\n",
    "                if aux1 == True:\n",
    "                    xk1 = xaux\n",
    "                    f_xk1 = faux\n",
    "                    break\n",
    "                else:\n",
    "                    delta = [i/alpha for i in delta]\n",
    "        xmenos = xk\n",
    "        xk = xk1\n",
    "        fxk = f_xk1\n",
    "    finales = [[f_xk1,xk1],[fxk,xk]]\n",
    "    finales.sort()\n",
    "    x_opt = finales[0][1]\n",
    "    f_opt = finales[0][0]                \n",
    "    print('x = [%.3f,%.3f]'%(x_opt[0],x_opt[1]))\n",
    "    print('f(x) = %.3f'%(f_opt))"
   ]
  },
  {
   "cell_type": "code",
   "execution_count": 28,
   "metadata": {},
   "outputs": [
    {
     "name": "stdout",
     "output_type": "stream",
     "text": [
      "x = [0.999,3.002]\n",
      "f(x) = 0.000\n"
     ]
    }
   ],
   "source": [
    "x0= [0,0]\n",
    "delta = [5,5]\n",
    "eps = 0.001\n",
    "alpha= 2\n",
    "hook_jeeves(x0,delta,alpha,eps)"
   ]
  },
  {
   "cell_type": "markdown",
   "metadata": {},
   "source": [
    "# Powell"
   ]
  },
  {
   "cell_type": "code",
   "execution_count": 121,
   "metadata": {},
   "outputs": [],
   "source": [
    "def flambda(x, d, l):\n",
    "    xlambda = []\n",
    "    xlambda.append(x[0] + l*d[0])\n",
    "    xlambda.append(x[1] + l*d[1])\n",
    "    fl = f(xlambda)\n",
    "    return fl"
   ]
  },
  {
   "cell_type": "code",
   "execution_count": 122,
   "metadata": {},
   "outputs": [],
   "source": [
    "def fl(x, d, w, a, b):\n",
    "    l = (b-a)*w + a\n",
    "    return flambda(x,d,l)"
   ]
  },
  {
   "cell_type": "code",
   "execution_count": 123,
   "metadata": {},
   "outputs": [],
   "source": [
    "def seccionDorada(x, d, a,b,eps):\n",
    "    e = eps/(b-a)\n",
    "    aw = 0\n",
    "    bw = 1\n",
    "    lw = 1\n",
    "    while lw > e:\n",
    "        w1 = aw +(0.618*lw)\n",
    "        w2 = bw -(0.618*lw)\n",
    "        f1 = fl(x, d, w1, a, b) \n",
    "        f2 = fl(x, d, w2, a, b) \n",
    "        if  f1 < f2:\n",
    "            aw = w2 \n",
    "        else:\n",
    "            bw = w1\n",
    "        lw = bw - aw   \n",
    "\n",
    "        lopt = (((b-a)*bw + a)+((b-a)*aw + a))/2.0\n",
    "    return lopt"
   ]
  },
  {
   "cell_type": "code",
   "execution_count": 124,
   "metadata": {},
   "outputs": [],
   "source": [
    "def determinante(A):\n",
    "    a = A[0][0]\n",
    "    b = A[0][1]\n",
    "    c = A[1][0]\n",
    "    d = A[1][1]\n",
    "    return (a*d)-(b*c)"
   ]
  },
  {
   "cell_type": "code",
   "execution_count": 131,
   "metadata": {},
   "outputs": [],
   "source": [
    "def powell(n,s1,s2,x0,eps):\n",
    "    s=[s1,s2]\n",
    "    a, b, eps_uni = -10.0, 10.0, 0.001\n",
    "    points = [x0]\n",
    "    \n",
    "    while True:\n",
    "        l = seccionDorada(points[-1], s[-1], a, b, eps_uni)\n",
    "        xnew= [points[-1][i] + l*s[-1][i] for i in range(n)]\n",
    "        points.append(xnew)\n",
    "        for si in s:\n",
    "            l = seccionDorada(points[-1], si, a, b, eps_uni)\n",
    "            xnew= [points[-1][i] + l*si[i] for i in range(n)]\n",
    "            points.append(xnew)\n",
    "\n",
    "        d = [points[-1][i] - points[1][i] for i in range(n)]\n",
    "        aux = np.linalg.norm(np.array(d))\n",
    "        s.pop(0)\n",
    "        s.append([d[i] / aux for i in range(n)])\n",
    "        #lin_indep = determinante(s)\n",
    "        A = np.transpose(np.matrix(s))\n",
    "        lin_indep = np.linalg.det(A)\n",
    "\n",
    "        if aux < eps or lin_indep == 0:\n",
    "            break\n",
    "            \n",
    "        points = [0, points[-1]]\n",
    "    opt = points[-1]\n",
    "    print('x = [%.3f,%.3f]'%(opt[0],opt[1]))\n",
    "    print(\"f(x) = %.3f\"%(f(points[-1])))"
   ]
  },
  {
   "cell_type": "code",
   "execution_count": 139,
   "metadata": {},
   "outputs": [
    {
     "name": "stdout",
     "output_type": "stream",
     "text": [
      "x = [1.000,3.000]\n",
      "f(x) = 0.000\n"
     ]
    }
   ],
   "source": [
    "n = 2\n",
    "x0 = [0,0]\n",
    "eps = 0.001\n",
    "s1 = [1.0,0]\n",
    "s2 = [0,1.0]\n",
    "powell(n,s1,s2,x0,eps)"
   ]
  },
  {
   "cell_type": "markdown",
   "metadata": {},
   "source": [
    "Método | Punto optimo | f(x) | Evaluaciones\n",
    "-- | -- | -- | --\n",
    "EVOP |[1.000,3.000] | 0.0| 105\n",
    "Caminata Aleatoria |[0.953,3.037]|0.004| 267\n",
    "Simplex| [1.010,2.999]|0.0| __54__\n",
    "Hooke-Jeeves |[0.999,3.002]|0.0| -\n",
    "Powell |[1.000,3.000]|0.0| -"
   ]
  },
  {
   "cell_type": "markdown",
   "metadata": {},
   "source": [
    "## ¿El punto encontrado por los métodos es un mínimo? Justifica tu respuesta."
   ]
  },
  {
   "cell_type": "markdown",
   "metadata": {},
   "source": [
    "$f(x): (x_{1} + 2x_{2} - 7)^{2}+(2x_{1} +x_{2} -5)^{2}$"
   ]
  },
  {
   "cell_type": "markdown",
   "metadata": {},
   "source": [
    "### Condiciones necesarias (gradiente f(x)=0):"
   ]
  },
  {
   "cell_type": "markdown",
   "metadata": {},
   "source": [
    "Paso 1. Derivar f(x) respecto de $x_1$ y $x_2$<br>\n",
    "a) $f'(x)$ respecto a $x_1$ = $4(2x_{1} + x_{2} - 5)+ 2(x_{1} + 2x_{2} - 7) $<br>\n",
    "b) $f'(x)$ respecto a $x_2$= $4(2x_{2} + x_{1} - 7)+ 2(x_{2} + 2x_{1} - 5) $"
   ]
  },
  {
   "cell_type": "markdown",
   "metadata": {},
   "source": [
    "Paso 2. evaluar el punto encontrado en la $f'(x)$ de a y b:<br>\n",
    "$f'([1,3]) = [ 0+0, 0+0 ] = [0,0]$<br>"
   ]
  },
  {
   "cell_type": "markdown",
   "metadata": {},
   "source": [
    "### Condiciones suficientes (matríz hessiana positivamente definida):"
   ]
  },
  {
   "cell_type": "markdown",
   "metadata": {},
   "source": [
    "Paso 1. Calcular f''(x) respecto de $x_1$ y $x_2$ para a y b <br>"
   ]
  },
  {
   "cell_type": "markdown",
   "metadata": {},
   "source": [
    "$f''(a)$ respecto a $x_1$ = $4(2) + 2(1)=$ 10 ,  respecto a $x_2$ = $4(1) + 2(2)$ = 8"
   ]
  },
  {
   "cell_type": "markdown",
   "metadata": {},
   "source": [
    "$f''(b)$ respecto a $x_1$ = $4(1) + 2(2)$ =8 ,  respecto a $x_2$ = $4(2) + 2(1)=$ = 10"
   ]
  },
  {
   "cell_type": "markdown",
   "metadata": {},
   "source": [
    "matríz hessiana $=\\begin{bmatrix}\n",
    "10&8 \\\\ \n",
    "8&10\n",
    "\\end{bmatrix}$<br>"
   ]
  },
  {
   "cell_type": "code",
   "execution_count": 35,
   "metadata": {},
   "outputs": [
    {
     "data": {
      "text/plain": [
       "36"
      ]
     },
     "execution_count": 35,
     "metadata": {},
     "output_type": "execute_result"
    }
   ],
   "source": [
    "A = [[10,8],[8,10]]\n",
    "determinante(A)"
   ]
  },
  {
   "cell_type": "markdown",
   "metadata": {},
   "source": [
    "Resultado: \n",
    "- el punto $[1,3]$ cumple con la condición necesaria ($\\nabla f(x) = 0$) y la matríz hessiana esta positivamente definida (determinante $\\neq 0$) por lo tanto __si es un mínimo__.<br>"
   ]
  },
  {
   "cell_type": "markdown",
   "metadata": {},
   "source": [
    "## Gráficar f(x), en un intervalo que contenga al optimo."
   ]
  },
  {
   "cell_type": "markdown",
   "metadata": {},
   "source": [
    "## Contour plot:"
   ]
  },
  {
   "cell_type": "code",
   "execution_count": 36,
   "metadata": {},
   "outputs": [
    {
     "data": {
      "image/png": "[encoded data removed]",
      "text/plain": [
       "<Figure size 432x288 with 2 Axes>"
      ]
     },
     "metadata": {
      "needs_background": "light"
     },
     "output_type": "display_data"
    }
   ],
   "source": [
    "from numpy import exp,arange\n",
    "from pylab import meshgrid,cm,imshow,contour,clabel,colorbar,axis,title,show\n",
    "\n",
    "# the function that I'm going to plot\n",
    "def func(x1,x2):\n",
    "    return (x1 + 2*x2 - 7)**2 + (2*x1 + x2 -5)**2\n",
    "\n",
    "x1 = arange(-1.0,4.0,0.1)\n",
    "x2 = arange(-1.0,4.0,0.1)\n",
    "X1,X2 = meshgrid(x1, x2) # grid of point\n",
    "Z = func(X1, X2) # evaluation of the function on the grid\n",
    "\n",
    "im = imshow(Z,cmap=cm.RdBu) # drawing the function\n",
    "# adding the Contour lines with labels\n",
    "cset = contour(Z,arange(-2,5.0,0.2),linewidths=2,cmap=cm.Set2)\n",
    "clabel(cset,inline=True,fmt='%1.1f',fontsize=10)\n",
    "colorbar(im) # adding the colobar on the right\n",
    "# latex fashion title\n",
    "title('$f(x)= (x_{1} + 2x_{2} - 7)^{2}+(2x_{1} +x_{2} -5)^{2}$')\n",
    "show()"
   ]
  },
  {
   "cell_type": "markdown",
   "metadata": {},
   "source": [
    "## 3D plot:"
   ]
  },
  {
   "cell_type": "code",
   "execution_count": 37,
   "metadata": {},
   "outputs": [
    {
     "data": {
      "image/png": "[encoded data removed]",
      "text/plain": [
       "<Figure size 432x288 with 2 Axes>"
      ]
     },
     "metadata": {
      "needs_background": "light"
     },
     "output_type": "display_data"
    }
   ],
   "source": [
    "from mpl_toolkits.mplot3d import Axes3D\n",
    "from matplotlib import cm\n",
    "from matplotlib.ticker import LinearLocator, FormatStrFormatter\n",
    "import matplotlib.pyplot as plt\n",
    "\n",
    "fig = plt.figure()\n",
    "ax = fig.gca(projection='3d')\n",
    "surf = ax.plot_surface(X1, X2, Z, rstride=1, cstride=1, \n",
    "                      cmap=cm.RdBu,linewidth=0, antialiased=False)\n",
    "\n",
    "ax.zaxis.set_major_locator(LinearLocator(10))\n",
    "ax.zaxis.set_major_formatter(FormatStrFormatter('%.02f'))\n",
    "\n",
    "fig.colorbar(surf, shrink=0.5, aspect=5)\n",
    "\n",
    "plt.show()"
   ]
  },
  {
   "cell_type": "markdown",
   "metadata": {},
   "source": [
    "## 4. Considere el siguiente problema: $min f(x_{1},x_{2})= (1.5 - x_{1}(1-x_{2}))^{2} + (2.25 - x_{1}(1-x_{2}^{2}))^{2} +  (2.625 - x_{1}(1-x_{2}^{3}))^{2} $\n",
    "Utiliza el método que desees, indica los parámetros que utilizaste y explica por qué elegiste dicho método y cómo elegiste los parámetros de entrada."
   ]
  },
  {
   "cell_type": "markdown",
   "metadata": {},
   "source": [
    "Utilize el método de __powell__ porque el método funciona aún cuando la función a optimizarse no sea cuadrática y realiza busquedas unidireccionales (Seccion Dorada) lo que acelera la busqueda y nos asegura encontrar el óptimo."
   ]
  },
  {
   "cell_type": "code",
   "execution_count": 141,
   "metadata": {},
   "outputs": [],
   "source": [
    "num_eval = 0\n",
    "def f(x):\n",
    "    global num_eval \n",
    "    num_eval += 1\n",
    "    return (1.5 - x[0]*(1 - x[1]))**2 + (2.25 - x[0]*(1 - x[1]**2))**2 + (2.625 - x[0]*(1 - x[1]**3))**2  "
   ]
  },
  {
   "cell_type": "code",
   "execution_count": 142,
   "metadata": {},
   "outputs": [
    {
     "name": "stdout",
     "output_type": "stream",
     "text": [
      "x = [2.918,0.480]\n",
      "f(x) = 0.001\n"
     ]
    }
   ],
   "source": [
    "#numero de varibles\n",
    "n = 2\n",
    "x0 = [1,1]\n",
    "eps = 0.001\n",
    "#se utilizan los vetores unitarios para generar las direcciones conjugadas apartir de x0\n",
    "s1 = [1.0,0]\n",
    "s2 = [0,1.0]\n",
    "powell(n,s1,s2,x0,eps)"
   ]
  },
  {
   "cell_type": "code",
   "execution_count": 40,
   "metadata": {},
   "outputs": [
    {
     "name": "stdout",
     "output_type": "stream",
     "text": [
      "x = [3.017,0.505]\n",
      "f(x) = 0.000\n",
      "520\n"
     ]
    }
   ],
   "source": [
    "gamma = 1.5\n",
    "beta = 0.5\n",
    "alpha= 2\n",
    "simplex(n,x0,gamma,beta,eps,alpha)"
   ]
  },
  {
   "cell_type": "code",
   "execution_count": 42,
   "metadata": {},
   "outputs": [
    {
     "name": "stdout",
     "output_type": "stream",
     "text": [
      "x = [-2.767,1.279]\n",
      "f(x) = 0.928\n",
      "5965\n"
     ]
    }
   ],
   "source": [
    "delta = [5,5]\n",
    "evop(x0,delta,eps)"
   ]
  }
 ],
 "metadata": {
  "kernelspec": {
   "display_name": "Python 3",
   "language": "python",
   "name": "python3"
  },
  "language_info": {
   "codemirror_mode": {
    "name": "ipython",
    "version": 3
   },
   "file_extension": ".py",
   "mimetype": "text/x-python",
   "name": "python",
   "nbconvert_exporter": "python",
   "pygments_lexer": "ipython3",
   "version": "3.8.5"
  }
 },
 "nbformat": 4,
 "nbformat_minor": 4
}
