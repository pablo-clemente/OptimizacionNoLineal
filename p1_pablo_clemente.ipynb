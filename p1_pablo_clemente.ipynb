{
 "cells": [
  {
   "cell_type": "markdown",
   "metadata": {},
   "source": [
    "## Práctica 1 - Optimización No Lineal"
   ]
  },
  {
   "cell_type": "markdown",
   "metadata": {},
   "source": [
    "## Pablo Clemente Moreno <br> No. Cuenta: 418125805"
   ]
  },
  {
   "cell_type": "markdown",
   "metadata": {},
   "source": [
    "1. Implementación de métodos: Búsqueda exhaustiva, División de intervalos por la mitad,Fibonacci, Sección dorada.\n",
    "2. Usando los métodos anteriores minimice la siguiente función: $f(x)= 0.65 - [\\frac{0.75}{1+x}] - 0.65xtan^{-1}(\\frac{1}{x})$\n",
    "3. En su reporte debe incluir la pantalla de la ejecución de cada uno de los métodos."
   ]
  },
  {
   "cell_type": "code",
   "execution_count": 1,
   "metadata": {},
   "outputs": [],
   "source": [
    "import math"
   ]
  },
  {
   "cell_type": "code",
   "execution_count": 2,
   "metadata": {},
   "outputs": [],
   "source": [
    "num_eval=0\n",
    "def f(x):\n",
    "    global num_eval\n",
    "    num_eval+= 1\n",
    "    try:\n",
    "        return (0.65 - (0.75/1+x**2)) - ((0.65 * x)*math.atan(1/x))\n",
    "    except ZeroDivisionError:\n",
    "        return 0"
   ]
  },
  {
   "cell_type": "code",
   "execution_count": 3,
   "metadata": {},
   "outputs": [],
   "source": [
    "def busqueda_exhaustiva(a,b,n):\n",
    "    x1 = a\n",
    "    dx = (b - a)/n\n",
    "    x2 = x1 + dx\n",
    "    x3 = x2 + dx\n",
    "\n",
    "    f1 = f(x1)\n",
    "    f2 = f(x2)\n",
    "    f3 = f(x3)\n",
    "    while x3 <= b:\n",
    "        if f1 >= f2 <=f3:\n",
    "            x1 = x1\n",
    "            x2 = x3\n",
    "            break\n",
    "        else:\n",
    "            x1 = x2\n",
    "            x2 = x3\n",
    "            x3 = x2+dx\n",
    "        f1 = f2\n",
    "        f2 = f3\n",
    "        f3 = f(x3)+dx\n",
    "    print(\"(%.3f,%.3f)\"%(x1,x3))\n",
    "    return print(num_eval)"
   ]
  },
  {
   "cell_type": "code",
   "execution_count": 4,
   "metadata": {},
   "outputs": [
    {
     "name": "stdout",
     "output_type": "stream",
     "text": [
      "(2.999,3.000)\n",
      "6001\n"
     ]
    }
   ],
   "source": [
    "a, b, n = 0, 3, 6000\n",
    "busqueda_exhaustiva(a,b,n)"
   ]
  },
  {
   "cell_type": "code",
   "execution_count": 5,
   "metadata": {},
   "outputs": [],
   "source": [
    "def div_int_mitad(a,b,eps):\n",
    "    e = eps\n",
    "    x1 = a\n",
    "    x2 = b \n",
    "    xm = (b + a)/2\n",
    "    L = abs(b-a)\n",
    "    fxm = f(xm)\n",
    "    while L > e:\n",
    "        x1 = a+(L/4)\n",
    "        x2 = b - (L/4)\n",
    "        f1 = f(x1)\n",
    "        if f1 < fxm:\n",
    "            b = xm\n",
    "            xm = x1\n",
    "            fxm = f1\n",
    "        else:\n",
    "            f2 = f(x2) \n",
    "            if f2 < fxm:\n",
    "                a = xm\n",
    "                xm = x2\n",
    "                fxm = f2\n",
    "            else:\n",
    "                a = x1\n",
    "                b = x2\n",
    "        L = b-a\n",
    "    print(\"(%.3f,%.3f)\"%(a,b))\n",
    "    print(num_eval)\n",
    "    return"
   ]
  },
  {
   "cell_type": "code",
   "execution_count": 6,
   "metadata": {},
   "outputs": [
    {
     "name": "stdout",
     "output_type": "stream",
     "text": [
      "(2.999,3.000)\n",
      "6026\n"
     ]
    }
   ],
   "source": [
    "a,b,eps = 0,3,0.001\n",
    "div_int_mitad(a,b,eps)"
   ]
  },
  {
   "cell_type": "code",
   "execution_count": 7,
   "metadata": {},
   "outputs": [],
   "source": [
    "def fibonacci(n):\n",
    "    # first two terms\n",
    "    n1, n2 = 1, 1\n",
    "    count = 0\n",
    "    # check if the number of terms is valid\n",
    "    if n <= 0:\n",
    "        return 1\n",
    "    elif n == 1:\n",
    "        return n1\n",
    "    else:\n",
    "        while count < n:\n",
    "            nth = n1 + n2\n",
    "            # update values\n",
    "            n1 = n2\n",
    "            n2 = nth\n",
    "            count += 1\n",
    "        return n1"
   ]
  },
  {
   "cell_type": "code",
   "execution_count": 8,
   "metadata": {},
   "outputs": [],
   "source": [
    "def Fibonacci(a,b,n):\n",
    "    k = 2\n",
    "    fn = fibonacci(n)\n",
    "    fn_k= fibonacci(n-k)\n",
    "    L = abs(b-a)\n",
    "    Lk = (fn_k/fn)*L\n",
    "    aux = 3\n",
    "    while k <= n:\n",
    "        if  aux == 1:\n",
    "            x1 = x2\n",
    "            f1 = f2\n",
    "            x2 = b - Lk\n",
    "            f2 = f(x2)\n",
    "        elif  aux == 2:\n",
    "            x2 = x1\n",
    "            f2 = f1\n",
    "            x1 = a + Lk\n",
    "            f1 = f(x1)\n",
    "        elif aux == 3:\n",
    "            Lk = (fn_k/fn)*L\n",
    "            x1 = a + Lk\n",
    "            x2 = b - Lk \n",
    "            f1 = f(x1)\n",
    "            f2 = f(x2)\n",
    "        if f1 > f2:\n",
    "            a = x1\n",
    "            aux = 1 \n",
    "        else:\n",
    "            b = x2\n",
    "            aux = 2 \n",
    "        k += 1\n",
    "        fn_k = fibonacci(n-k)\n",
    "        Lk = (fn_k/fn)*L   \n",
    "    print(\"(%.3f,%.3f)\"%(a,b))\n",
    "    print(num_eval)\n",
    "    return"
   ]
  },
  {
   "cell_type": "code",
   "execution_count": 9,
   "metadata": {},
   "outputs": [
    {
     "name": "stdout",
     "output_type": "stream",
     "text": [
      "(2.998,2.999)\n",
      "6043\n"
     ]
    }
   ],
   "source": [
    "Fn = b-a/0.001 #=3000\n",
    "n= fibonacci(17) #lo mas cercano a 3000 es 2584 el cual se obtiene en la posicion de la sucesión de fibonacci 17\n",
    "Fibonacci(a,b,17)"
   ]
  },
  {
   "cell_type": "code",
   "execution_count": 10,
   "metadata": {},
   "outputs": [],
   "source": [
    "num_eval = 0 \n",
    "def ff(w,a,b):\n",
    "    global num_eval\n",
    "    num_eval += 1 \n",
    "    x = (b-a)*w + a \n",
    "    return 0.65 - (0.75/1+x**2) - 0.65*x*math.atan(1/x)\n",
    "def seccion_dorada(a,b,eps):\n",
    "    e = eps/(b-a)\n",
    "    aw = 0\n",
    "    bw = 1\n",
    "    lw = 1\n",
    "    aux = 3\n",
    "\n",
    "    while lw > e:\n",
    "        if aux == 1:\n",
    "            w2 = w1\n",
    "            fw2 = fw1\n",
    "            w1 = aw +(0.618*lw)\n",
    "            fw1 = ff(w1, a,b)\n",
    "        elif aux == 2:\n",
    "            w1 = w2\n",
    "            fw1 = fw2\n",
    "            w2 = bw -(0.618*lw)\n",
    "            fw2 = ff(w2,a,b)\n",
    "        elif aux == 3:\n",
    "            w1 = aw +(0.618*lw)\n",
    "            w2 = bw -(0.618*lw)\n",
    "            fw1 = ff(w1, a,b)\n",
    "            fw2 = ff(w2,a,b)\n",
    "        if  fw1 < fw2:\n",
    "            aw = w2 \n",
    "            aux = 1\n",
    "        else:\n",
    "            bw = w1\n",
    "            aux = 2\n",
    "        lw = bw - aw \n",
    "    print(\"(%.3f,%.3f)\"%((b-a)*aw + a,(b-a)*bw + a))\n",
    "    print(num_eval)"
   ]
  },
  {
   "cell_type": "code",
   "execution_count": 11,
   "metadata": {},
   "outputs": [
    {
     "name": "stdout",
     "output_type": "stream",
     "text": [
      "(2.999,3.000)\n",
      "18\n"
     ]
    }
   ],
   "source": [
    "seccion_dorada(a,b,eps)"
   ]
  },
  {
   "cell_type": "markdown",
   "metadata": {},
   "source": [
    "Método | Intervalo | Evaluaciones\n",
    "-- | -- | --\n",
    "Búsqueda exhaustiva | (2.999,3.000) | 6001\n",
    "División de intervalos por la mitad |(2.999,3.000)| 25\n",
    "Fibonacci| (2.998,2.999)| 17\n",
    "Sección dorada |(2.999,3.000)| 18"
   ]
  },
  {
   "cell_type": "markdown",
   "metadata": {},
   "source": [
    "4. Valide sus resultados (número de evaluaciones de f) haciendo el cálculo teórico. Muestre todo el procedimiento."
   ]
  },
  {
   "cell_type": "markdown",
   "metadata": {},
   "source": [
    "### Búsqueda exhaustiva:"
   ]
  },
  {
   "cell_type": "markdown",
   "metadata": {},
   "source": [
    "$eval\\epsilon = \\frac{2L_{0}}{\\epsilon } = \\frac{2(3-0)}{0.001}= \\frac{6}{0.001}=6000$"
   ]
  },
  {
   "cell_type": "markdown",
   "metadata": {},
   "source": [
    "### División de intervalos por la mitad:"
   ]
  },
  {
   "cell_type": "markdown",
   "metadata": {},
   "source": [
    "$eval\\epsilon =2\\cdot \\frac{log(\\frac{\\epsilon }{L_{0}})}{log(\\frac{1}{2})}= 2\\cdot \\frac{log(\\frac{0.001 }{3})}{log(\\frac{1}{2})}= 2\\cdot 11.550= 23.10$"
   ]
  },
  {
   "cell_type": "markdown",
   "metadata": {},
   "source": [
    "### Fibonacci:"
   ]
  },
  {
   "cell_type": "markdown",
   "metadata": {},
   "source": [
    "$F_{n}= \\frac{L_{0}}{\\epsilon } = \\frac{3}{0.001}=3000$"
   ]
  },
  {
   "cell_type": "markdown",
   "metadata": {},
   "source": [
    "Lo más cercano a 3000 es 2584 el cual se obtiene en la posición __17__ de la sucesión de fibonacci y como este método solo se requiere una evaluación de la función objetivo a cada iteración el numero de evaluciones es __17__."
   ]
  },
  {
   "cell_type": "markdown",
   "metadata": {},
   "source": [
    "### Sección dorada:"
   ]
  },
  {
   "cell_type": "markdown",
   "metadata": {},
   "source": [
    "$eval\\epsilon =\\frac{log(\\frac{\\epsilon }{L_{0}})}{log(0.618)}+1= \\frac{log(\\frac{0.001 }{3})}{log(0.618)}+1= 16.63+1= 17.63 \\approx 18$"
   ]
  },
  {
   "cell_type": "markdown",
   "metadata": {},
   "source": [
    "5. Grafique f(x) en el intervalo [0, 3]."
   ]
  },
  {
   "cell_type": "code",
   "execution_count": 15,
   "metadata": {},
   "outputs": [
    {
     "data": {
      "image/png": "[encoded data removed]",
      "text/plain": [
       "<Figure size 432x288 with 1 Axes>"
      ]
     },
     "metadata": {
      "needs_background": "light"
     },
     "output_type": "display_data"
    }
   ],
   "source": [
    "import math\n",
    "import matplotlib.pyplot as plt\n",
    "import numpy as np\n",
    "x = np.linspace(-2.0, 6.0, num=10)\n",
    "plt.plot(x, [abs(f(i)) for i in x])\n",
    "plt.title(\"(0.65 - (0.75/1+x^2)) - (0.65xtan^-1(1/x)\")\n",
    "plt.show()"
   ]
  },
  {
   "cell_type": "markdown",
   "metadata": {},
   "source": [
    "6. Indique cuál método es el más eficiente y explique por qué."
   ]
  },
  {
   "cell_type": "markdown",
   "metadata": {},
   "source": [
    "En este caso el método con menor evaluaciones fue Fibonacci aunque nos dio un intervalo recorrido por 0.001 hacia la izquierda que es diferente al de los otros 3 métodos los cuales dieron el mismo intervalo, asi que de los 3 con el mismo intervalo el que hizo menos evaluaciones de la funcion objetivo fue __Sección dorada__ por lo tanto creo que es el más eficiente para encontrar el optimo real. En general el que siempre cumple con el menor número de evaluaciones sin importar de que función se trate es Sección dorada."
   ]
  }
 ],
 "metadata": {
  "kernelspec": {
   "display_name": "Python 3",
   "language": "python",
   "name": "python3"
  },
  "language_info": {
   "codemirror_mode": {
    "name": "ipython",
    "version": 3
   },
   "file_extension": ".py",
   "mimetype": "text/x-python",
   "name": "python",
   "nbconvert_exporter": "python",
   "pygments_lexer": "ipython3",
   "version": "3.8.5"
  }
 },
 "nbformat": 4,
 "nbformat_minor": 4
}
